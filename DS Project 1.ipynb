{
 "cells": [
  {
   "cell_type": "markdown",
   "metadata": {},
   "source": [
    "#### Udacity Nanodegree \"Data Science\" - Project 1\n",
    "\n",
    "This project covers Project 1 of the Udacity Nanodegree Course Data Science.\n",
    "\n",
    "Considering the stack overflow surveys of the years 2018-2021, this Notebook deals with these questions:\n",
    "\n",
    "1. What columns (i.e. questions) are contained in each of the four datasets and, hence, ca be analysed over time?\n",
    "2. What is the distribution of the participants' age 2018 and 2021?\n",
    "3. How does the usage of the different programming languags develop from 2018 to 2021?\n",
    "4. What portion of the participants in 2021 has mental health issues?\n",
    "5. Compare mental health issues with usage of programming langugage in 2021.\n",
    "\n",
    "First import libraries and the different datasets."
   ]
  },
  {
   "cell_type": "code",
   "execution_count": 1,
   "metadata": {},
   "outputs": [
    {
     "name": "stderr",
     "output_type": "stream",
     "text": [
      "/opt/conda/lib/python3.6/site-packages/IPython/core/interactiveshell.py:2785: DtypeWarning: Columns (8,12,13,14,15,16,50,51,52,53,55,56,57,58,59,60,61,62,63,64,65,66,67,68,69,70,71,72,73,74,75,76,77,78,79,80,81,82,83,84,85,93,94,95,96,97,98,99,100,101,102,103,104,105,106,107,108,109,110,111,112,113,114,115,116,117,118,119,120,121,122,123,124,125,126,127,128) have mixed types. Specify dtype option on import or set low_memory=False.\n",
      "  interactivity=interactivity, compiler=compiler, result=result)\n"
     ]
    }
   ],
   "source": [
    "import numpy as np\n",
    "import pandas as pd\n",
    "import matplotlib.pyplot as plt\n",
    "\n",
    "%matplotlib inline\n",
    "\n",
    "# Import data\n",
    "\n",
    "df2018 = pd.read_csv('./Data/stack-overflow-developer-survey-2018/survey_results_public.csv')\n",
    "\n",
    "df2019 = pd.read_csv('./Data/stack-overflow-developer-survey-2019/survey_results_public.csv')\n",
    "\n",
    "df2020 = pd.read_csv('./Data/stack-overflow-developer-survey-2020/survey_results_public.csv')\n",
    "\n",
    "df2021 = pd.read_csv('./Data/stack-overflow-developer-survey-2021/survey_results_public.csv')"
   ]
  },
  {
   "cell_type": "code",
   "execution_count": 2,
   "metadata": {},
   "outputs": [
    {
     "data": {
      "text/html": [
       "<div>\n",
       "<style scoped>\n",
       "    .dataframe tbody tr th:only-of-type {\n",
       "        vertical-align: middle;\n",
       "    }\n",
       "\n",
       "    .dataframe tbody tr th {\n",
       "        vertical-align: top;\n",
       "    }\n",
       "\n",
       "    .dataframe thead th {\n",
       "        text-align: right;\n",
       "    }\n",
       "</style>\n",
       "<table border=\"1\" class=\"dataframe\">\n",
       "  <thead>\n",
       "    <tr style=\"text-align: right;\">\n",
       "      <th></th>\n",
       "      <th>Respondent</th>\n",
       "      <th>Hobby</th>\n",
       "      <th>OpenSource</th>\n",
       "      <th>Country</th>\n",
       "      <th>Student</th>\n",
       "      <th>Employment</th>\n",
       "      <th>FormalEducation</th>\n",
       "      <th>UndergradMajor</th>\n",
       "      <th>CompanySize</th>\n",
       "      <th>DevType</th>\n",
       "      <th>...</th>\n",
       "      <th>Exercise</th>\n",
       "      <th>Gender</th>\n",
       "      <th>SexualOrientation</th>\n",
       "      <th>EducationParents</th>\n",
       "      <th>RaceEthnicity</th>\n",
       "      <th>Age</th>\n",
       "      <th>Dependents</th>\n",
       "      <th>MilitaryUS</th>\n",
       "      <th>SurveyTooLong</th>\n",
       "      <th>SurveyEasy</th>\n",
       "    </tr>\n",
       "  </thead>\n",
       "  <tbody>\n",
       "    <tr>\n",
       "      <th>0</th>\n",
       "      <td>1</td>\n",
       "      <td>Yes</td>\n",
       "      <td>No</td>\n",
       "      <td>Kenya</td>\n",
       "      <td>No</td>\n",
       "      <td>Employed part-time</td>\n",
       "      <td>Bachelor’s degree (BA, BS, B.Eng., etc.)</td>\n",
       "      <td>Mathematics or statistics</td>\n",
       "      <td>20 to 99 employees</td>\n",
       "      <td>Full-stack developer</td>\n",
       "      <td>...</td>\n",
       "      <td>3 - 4 times per week</td>\n",
       "      <td>Male</td>\n",
       "      <td>Straight or heterosexual</td>\n",
       "      <td>Bachelor’s degree (BA, BS, B.Eng., etc.)</td>\n",
       "      <td>Black or of African descent</td>\n",
       "      <td>25 - 34 years old</td>\n",
       "      <td>Yes</td>\n",
       "      <td>NaN</td>\n",
       "      <td>The survey was an appropriate length</td>\n",
       "      <td>Very easy</td>\n",
       "    </tr>\n",
       "    <tr>\n",
       "      <th>1</th>\n",
       "      <td>3</td>\n",
       "      <td>Yes</td>\n",
       "      <td>Yes</td>\n",
       "      <td>United Kingdom</td>\n",
       "      <td>No</td>\n",
       "      <td>Employed full-time</td>\n",
       "      <td>Bachelor’s degree (BA, BS, B.Eng., etc.)</td>\n",
       "      <td>A natural science (ex. biology, chemistry, phy...</td>\n",
       "      <td>10,000 or more employees</td>\n",
       "      <td>Database administrator;DevOps specialist;Full-...</td>\n",
       "      <td>...</td>\n",
       "      <td>Daily or almost every day</td>\n",
       "      <td>Male</td>\n",
       "      <td>Straight or heterosexual</td>\n",
       "      <td>Bachelor’s degree (BA, BS, B.Eng., etc.)</td>\n",
       "      <td>White or of European descent</td>\n",
       "      <td>35 - 44 years old</td>\n",
       "      <td>Yes</td>\n",
       "      <td>NaN</td>\n",
       "      <td>The survey was an appropriate length</td>\n",
       "      <td>Somewhat easy</td>\n",
       "    </tr>\n",
       "    <tr>\n",
       "      <th>2</th>\n",
       "      <td>4</td>\n",
       "      <td>Yes</td>\n",
       "      <td>Yes</td>\n",
       "      <td>United States</td>\n",
       "      <td>No</td>\n",
       "      <td>Employed full-time</td>\n",
       "      <td>Associate degree</td>\n",
       "      <td>Computer science, computer engineering, or sof...</td>\n",
       "      <td>20 to 99 employees</td>\n",
       "      <td>Engineering manager;Full-stack developer</td>\n",
       "      <td>...</td>\n",
       "      <td>NaN</td>\n",
       "      <td>NaN</td>\n",
       "      <td>NaN</td>\n",
       "      <td>NaN</td>\n",
       "      <td>NaN</td>\n",
       "      <td>NaN</td>\n",
       "      <td>NaN</td>\n",
       "      <td>NaN</td>\n",
       "      <td>NaN</td>\n",
       "      <td>NaN</td>\n",
       "    </tr>\n",
       "    <tr>\n",
       "      <th>3</th>\n",
       "      <td>5</td>\n",
       "      <td>No</td>\n",
       "      <td>No</td>\n",
       "      <td>United States</td>\n",
       "      <td>No</td>\n",
       "      <td>Employed full-time</td>\n",
       "      <td>Bachelor’s degree (BA, BS, B.Eng., etc.)</td>\n",
       "      <td>Computer science, computer engineering, or sof...</td>\n",
       "      <td>100 to 499 employees</td>\n",
       "      <td>Full-stack developer</td>\n",
       "      <td>...</td>\n",
       "      <td>I don't typically exercise</td>\n",
       "      <td>Male</td>\n",
       "      <td>Straight or heterosexual</td>\n",
       "      <td>Some college/university study without earning ...</td>\n",
       "      <td>White or of European descent</td>\n",
       "      <td>35 - 44 years old</td>\n",
       "      <td>No</td>\n",
       "      <td>No</td>\n",
       "      <td>The survey was an appropriate length</td>\n",
       "      <td>Somewhat easy</td>\n",
       "    </tr>\n",
       "    <tr>\n",
       "      <th>4</th>\n",
       "      <td>7</td>\n",
       "      <td>Yes</td>\n",
       "      <td>No</td>\n",
       "      <td>South Africa</td>\n",
       "      <td>Yes, part-time</td>\n",
       "      <td>Employed full-time</td>\n",
       "      <td>Some college/university study without earning ...</td>\n",
       "      <td>Computer science, computer engineering, or sof...</td>\n",
       "      <td>10,000 or more employees</td>\n",
       "      <td>Data or business analyst;Desktop or enterprise...</td>\n",
       "      <td>...</td>\n",
       "      <td>3 - 4 times per week</td>\n",
       "      <td>Male</td>\n",
       "      <td>Straight or heterosexual</td>\n",
       "      <td>Some college/university study without earning ...</td>\n",
       "      <td>White or of European descent</td>\n",
       "      <td>18 - 24 years old</td>\n",
       "      <td>Yes</td>\n",
       "      <td>NaN</td>\n",
       "      <td>The survey was an appropriate length</td>\n",
       "      <td>Somewhat easy</td>\n",
       "    </tr>\n",
       "  </tbody>\n",
       "</table>\n",
       "<p>5 rows × 129 columns</p>\n",
       "</div>"
      ],
      "text/plain": [
       "   Respondent Hobby OpenSource         Country         Student  \\\n",
       "0           1   Yes         No           Kenya              No   \n",
       "1           3   Yes        Yes  United Kingdom              No   \n",
       "2           4   Yes        Yes   United States              No   \n",
       "3           5    No         No   United States              No   \n",
       "4           7   Yes         No    South Africa  Yes, part-time   \n",
       "\n",
       "           Employment                                    FormalEducation  \\\n",
       "0  Employed part-time           Bachelor’s degree (BA, BS, B.Eng., etc.)   \n",
       "1  Employed full-time           Bachelor’s degree (BA, BS, B.Eng., etc.)   \n",
       "2  Employed full-time                                   Associate degree   \n",
       "3  Employed full-time           Bachelor’s degree (BA, BS, B.Eng., etc.)   \n",
       "4  Employed full-time  Some college/university study without earning ...   \n",
       "\n",
       "                                      UndergradMajor  \\\n",
       "0                          Mathematics or statistics   \n",
       "1  A natural science (ex. biology, chemistry, phy...   \n",
       "2  Computer science, computer engineering, or sof...   \n",
       "3  Computer science, computer engineering, or sof...   \n",
       "4  Computer science, computer engineering, or sof...   \n",
       "\n",
       "                CompanySize  \\\n",
       "0        20 to 99 employees   \n",
       "1  10,000 or more employees   \n",
       "2        20 to 99 employees   \n",
       "3      100 to 499 employees   \n",
       "4  10,000 or more employees   \n",
       "\n",
       "                                             DevType      ...        \\\n",
       "0                               Full-stack developer      ...         \n",
       "1  Database administrator;DevOps specialist;Full-...      ...         \n",
       "2           Engineering manager;Full-stack developer      ...         \n",
       "3                               Full-stack developer      ...         \n",
       "4  Data or business analyst;Desktop or enterprise...      ...         \n",
       "\n",
       "                     Exercise Gender         SexualOrientation  \\\n",
       "0        3 - 4 times per week   Male  Straight or heterosexual   \n",
       "1   Daily or almost every day   Male  Straight or heterosexual   \n",
       "2                         NaN    NaN                       NaN   \n",
       "3  I don't typically exercise   Male  Straight or heterosexual   \n",
       "4        3 - 4 times per week   Male  Straight or heterosexual   \n",
       "\n",
       "                                    EducationParents  \\\n",
       "0           Bachelor’s degree (BA, BS, B.Eng., etc.)   \n",
       "1           Bachelor’s degree (BA, BS, B.Eng., etc.)   \n",
       "2                                                NaN   \n",
       "3  Some college/university study without earning ...   \n",
       "4  Some college/university study without earning ...   \n",
       "\n",
       "                  RaceEthnicity                Age Dependents  MilitaryUS  \\\n",
       "0   Black or of African descent  25 - 34 years old        Yes         NaN   \n",
       "1  White or of European descent  35 - 44 years old        Yes         NaN   \n",
       "2                           NaN                NaN        NaN         NaN   \n",
       "3  White or of European descent  35 - 44 years old         No          No   \n",
       "4  White or of European descent  18 - 24 years old        Yes         NaN   \n",
       "\n",
       "                          SurveyTooLong     SurveyEasy  \n",
       "0  The survey was an appropriate length      Very easy  \n",
       "1  The survey was an appropriate length  Somewhat easy  \n",
       "2                                   NaN            NaN  \n",
       "3  The survey was an appropriate length  Somewhat easy  \n",
       "4  The survey was an appropriate length  Somewhat easy  \n",
       "\n",
       "[5 rows x 129 columns]"
      ]
     },
     "execution_count": 2,
     "metadata": {},
     "output_type": "execute_result"
    }
   ],
   "source": [
    "df2018.head()"
   ]
  },
  {
   "cell_type": "markdown",
   "metadata": {},
   "source": [
    "#### Question 1: Compare Questions/Columns over years\n",
    "\n",
    "The four datasets contain different columns, each column corresponding to a certain questions. We want to find out, which columns stay identical over all four years."
   ]
  },
  {
   "cell_type": "code",
   "execution_count": 3,
   "metadata": {},
   "outputs": [
    {
     "data": {
      "text/html": [
       "<div>\n",
       "<style scoped>\n",
       "    .dataframe tbody tr th:only-of-type {\n",
       "        vertical-align: middle;\n",
       "    }\n",
       "\n",
       "    .dataframe tbody tr th {\n",
       "        vertical-align: top;\n",
       "    }\n",
       "\n",
       "    .dataframe thead th {\n",
       "        text-align: right;\n",
       "    }\n",
       "</style>\n",
       "<table border=\"1\" class=\"dataframe\">\n",
       "  <thead>\n",
       "    <tr style=\"text-align: right;\">\n",
       "      <th></th>\n",
       "      <th>2018</th>\n",
       "      <th>2019</th>\n",
       "      <th>2020</th>\n",
       "      <th>2021</th>\n",
       "      <th>sum</th>\n",
       "    </tr>\n",
       "  </thead>\n",
       "  <tbody>\n",
       "    <tr>\n",
       "      <th>Age</th>\n",
       "      <td>True</td>\n",
       "      <td>True</td>\n",
       "      <td>True</td>\n",
       "      <td>True</td>\n",
       "      <td>4.0</td>\n",
       "    </tr>\n",
       "    <tr>\n",
       "      <th>Country</th>\n",
       "      <td>True</td>\n",
       "      <td>True</td>\n",
       "      <td>True</td>\n",
       "      <td>True</td>\n",
       "      <td>4.0</td>\n",
       "    </tr>\n",
       "    <tr>\n",
       "      <th>Employment</th>\n",
       "      <td>True</td>\n",
       "      <td>True</td>\n",
       "      <td>True</td>\n",
       "      <td>True</td>\n",
       "      <td>4.0</td>\n",
       "    </tr>\n",
       "    <tr>\n",
       "      <th>Gender</th>\n",
       "      <td>True</td>\n",
       "      <td>True</td>\n",
       "      <td>True</td>\n",
       "      <td>True</td>\n",
       "      <td>4.0</td>\n",
       "    </tr>\n",
       "    <tr>\n",
       "      <th>DevType</th>\n",
       "      <td>True</td>\n",
       "      <td>True</td>\n",
       "      <td>True</td>\n",
       "      <td>True</td>\n",
       "      <td>4.0</td>\n",
       "    </tr>\n",
       "  </tbody>\n",
       "</table>\n",
       "</div>"
      ],
      "text/plain": [
       "            2018  2019  2020  2021  sum\n",
       "Age         True  True  True  True  4.0\n",
       "Country     True  True  True  True  4.0\n",
       "Employment  True  True  True  True  4.0\n",
       "Gender      True  True  True  True  4.0\n",
       "DevType     True  True  True  True  4.0"
      ]
     },
     "execution_count": 3,
     "metadata": {},
     "output_type": "execute_result"
    }
   ],
   "source": [
    "questions = pd.DataFrame(columns=['2018', '2019', '2020', '2021'])\n",
    "\n",
    "for question in df2018.columns:\n",
    "    questions.loc[question, '2018'] = True\n",
    "\n",
    "for question in df2019.columns:\n",
    "    questions.loc[question, '2019'] = True\n",
    "\n",
    "for question in df2020.columns:\n",
    "    questions.loc[question, '2020'] = True\n",
    "\n",
    "for question in df2021.columns:\n",
    "    questions.loc[question, '2021'] = True\n",
    "\n",
    "# add column with sum and sort\n",
    "questions['sum'] = questions.sum(axis=1)\n",
    "questions.sort_values(by=\"sum\", ascending=False, inplace=True)\n",
    "\n",
    "# show\n",
    "questions.head()"
   ]
  },
  {
   "cell_type": "code",
   "execution_count": 4,
   "metadata": {},
   "outputs": [
    {
     "name": "stdout",
     "output_type": "stream",
     "text": [
      "5\n"
     ]
    },
    {
     "data": {
      "text/plain": [
       "0.03875968992248062"
      ]
     },
     "execution_count": 4,
     "metadata": {},
     "output_type": "execute_result"
    }
   ],
   "source": [
    "# count questions/columns that exist for all 4 years\n",
    "print(questions[questions['sum']==4].shape[0])\n",
    "\n",
    "# calculate portion of all columns in 2018\n",
    "questions[questions['sum']==4].shape[0] / len(df2018.columns)"
   ]
  },
  {
   "cell_type": "markdown",
   "metadata": {},
   "source": [
    "#### Conclusion\n",
    "\n",
    "Only 5 columns are identical in all four datasets, i.e. only about 3.9% of all columns from the 2018 dataset can be analysed over time without further mapping."
   ]
  },
  {
   "cell_type": "markdown",
   "metadata": {},
   "source": [
    "#### Question 2\n",
    "\n",
    "What is the distribution of the participants' age in 2018 and 2021?"
   ]
  },
  {
   "cell_type": "code",
   "execution_count": 5,
   "metadata": {},
   "outputs": [
    {
     "data": {
      "text/plain": [
       "<matplotlib.axes._subplots.AxesSubplot at 0x7f981581f390>"
      ]
     },
     "execution_count": 5,
     "metadata": {},
     "output_type": "execute_result"
    },
    {
     "data": {
      "image/png": "[encoded data removed]",
      "text/plain": [
       "<matplotlib.figure.Figure at 0x7f98455ee978>"
      ]
     },
     "metadata": {
      "needs_background": "light"
     },
     "output_type": "display_data"
    }
   ],
   "source": [
    "ages = pd.DataFrame(df2021['Age'].value_counts() / df2021['Age'].value_counts().sum())\n",
    "\n",
    "# rename and update index to match index 2018\n",
    "ages.rename(columns={'Age': '2021'}, inplace=True)\n",
    "ages.set_index(ages.index.str.replace(\"-\",\" - \"), inplace=True)\n",
    "\n",
    "# add ages from 2018\n",
    "ages['2018'] = df2018['Age'].value_counts() / df2018['Age'].value_counts().sum()\n",
    "\n",
    "# sort\n",
    "ages = ages.reindex(['Under 18 years old',\n",
    "              '18 - 24 years old',\n",
    "              '25 - 34 years old',\n",
    "              '35 - 44 years old',\n",
    "              '45 - 54 years old',\n",
    "              '55 - 64 years old',\n",
    "              '65 years or older',\n",
    "              'Prefer not to say'])\n",
    "\n",
    "# plot\n",
    "ages.plot(kind='bar', title='Distribution of age')"
   ]
  },
  {
   "cell_type": "markdown",
   "metadata": {},
   "source": [
    "#### Conclusion\n",
    "\n",
    "The general distribution of participants' ages in 2018 and 2021 stays quite similar: There is a clear peak for 25-34 years (>=40%), followed by 18-24 years (abt. 25%) and 35-44 years (abt. 20%). Almost no participant is 65 years or older.\n",
    "However, in 2021 the portion of participants aged 25-34 years is smaller than in 2018, but the portion of under 18 years has increased."
   ]
  },
  {
   "cell_type": "markdown",
   "metadata": {},
   "source": [
    "##### Question 3: Programming Langugages over time\n",
    "\n",
    "How did the usage of the different programming languags develop from 2018 to 2021?"
   ]
  },
  {
   "cell_type": "code",
   "execution_count": 6,
   "metadata": {},
   "outputs": [
    {
     "data": {
      "text/plain": [
       "<matplotlib.axes._subplots.AxesSubplot at 0x7f98154b8898>"
      ]
     },
     "execution_count": 6,
     "metadata": {},
     "output_type": "execute_result"
    },
    {
     "data": {
      "image/png": "[encoded data removed]",
      "text/plain": [
       "<matplotlib.figure.Figure at 0x7f98154b8400>"
      ]
     },
     "metadata": {
      "needs_background": "light"
     },
     "output_type": "display_data"
    }
   ],
   "source": [
    "# Collect Data\n",
    "language2018 = df2018['LanguageWorkedWith'].dropna()\n",
    "language2019 = df2019['LanguageWorkedWith'].dropna()\n",
    "language2020 = df2020['LanguageWorkedWith'].dropna()\n",
    "language2021 = df2021['LanguageHaveWorkedWith'].dropna()\n",
    "\n",
    "# Extract all languages\n",
    "raw_languages = list(language2018) + list(language2019) + list(language2020) + list(language2021)\n",
    "all_languages = []\n",
    "\n",
    "for raw_language in raw_languages:\n",
    "    for language in raw_language.split(';'):\n",
    "        if language in all_languages:\n",
    "            continue\n",
    "        else:\n",
    "            all_languages.append(language)\n",
    "\n",
    "# Assemble dataframe\n",
    "all_languages_df = pd.DataFrame(all_languages, index=all_languages, columns=['language'])\n",
    "\n",
    "for u in all_languages:\n",
    "    all_languages_df.loc[u, '2018'] = len(language2018[language2018.str.contains(u, regex=False)])\n",
    "    all_languages_df.loc[u, '2019'] = len(language2019[language2019.str.contains(u, regex=False)])\n",
    "    all_languages_df.loc[u, '2020'] = len(language2020[language2020.str.contains(u, regex=False)])\n",
    "    all_languages_df.loc[u, '2021'] = len(language2021[language2021.str.contains(u, regex=False)])\n",
    "\n",
    "# clean up and calculate  portions\n",
    "languages_year = all_languages_df.drop('language', axis=1) / [language2018.shape[0], language2019.shape[0], language2020.shape[0], language2021.shape[0]]\n",
    "\n",
    "# plot\n",
    "languages_year[['2018', '2019', '2020', '2021']].plot(kind='bar')"
   ]
  },
  {
   "cell_type": "code",
   "execution_count": 7,
   "metadata": {},
   "outputs": [
    {
     "data": {
      "text/plain": [
       "<matplotlib.axes._subplots.AxesSubplot at 0x7f9815408860>"
      ]
     },
     "execution_count": 7,
     "metadata": {},
     "output_type": "execute_result"
    },
    {
     "data": {
      "image/png": "[encoded data removed]",
      "text/plain": [
       "<matplotlib.figure.Figure at 0x7f981538dbe0>"
      ]
     },
     "metadata": {
      "needs_background": "light"
     },
     "output_type": "display_data"
    }
   ],
   "source": [
    "# calculate difference 2021/2018\n",
    "languages_year.loc[languages_year['2018']>0,'diff'] = (languages_year['2021'] - languages_year['2018'])/languages_year['2018']\n",
    "languages_year.sort_values(by='diff', ascending=False, inplace=True)\n",
    "languages_year['diff'].plot(kind='bar')"
   ]
  },
  {
   "cell_type": "code",
   "execution_count": 8,
   "metadata": {},
   "outputs": [
    {
     "data": {
      "text/html": [
       "<div>\n",
       "<style scoped>\n",
       "    .dataframe tbody tr th:only-of-type {\n",
       "        vertical-align: middle;\n",
       "    }\n",
       "\n",
       "    .dataframe tbody tr th {\n",
       "        vertical-align: top;\n",
       "    }\n",
       "\n",
       "    .dataframe thead th {\n",
       "        text-align: right;\n",
       "    }\n",
       "</style>\n",
       "<table border=\"1\" class=\"dataframe\">\n",
       "  <thead>\n",
       "    <tr style=\"text-align: right;\">\n",
       "      <th></th>\n",
       "      <th>2018</th>\n",
       "      <th>2019</th>\n",
       "      <th>2020</th>\n",
       "      <th>2021</th>\n",
       "      <th>diff</th>\n",
       "    </tr>\n",
       "  </thead>\n",
       "  <tbody>\n",
       "    <tr>\n",
       "      <th>Rust</th>\n",
       "      <td>0.023706</td>\n",
       "      <td>0.031906</td>\n",
       "      <td>0.051047</td>\n",
       "      <td>0.070413</td>\n",
       "      <td>1.970236</td>\n",
       "    </tr>\n",
       "    <tr>\n",
       "      <th>Julia</th>\n",
       "      <td>0.005489</td>\n",
       "      <td>0.000000</td>\n",
       "      <td>0.009045</td>\n",
       "      <td>0.012968</td>\n",
       "      <td>1.362395</td>\n",
       "    </tr>\n",
       "    <tr>\n",
       "      <th>Kotlin</th>\n",
       "      <td>0.044783</td>\n",
       "      <td>0.064178</td>\n",
       "      <td>0.077870</td>\n",
       "      <td>0.083369</td>\n",
       "      <td>0.861633</td>\n",
       "    </tr>\n",
       "    <tr>\n",
       "      <th>TypeScript</th>\n",
       "      <td>0.173947</td>\n",
       "      <td>0.211525</td>\n",
       "      <td>0.254070</td>\n",
       "      <td>0.302452</td>\n",
       "      <td>0.738752</td>\n",
       "    </tr>\n",
       "    <tr>\n",
       "      <th>Clojure</th>\n",
       "      <td>0.013174</td>\n",
       "      <td>0.014320</td>\n",
       "      <td>0.000000</td>\n",
       "      <td>0.018845</td>\n",
       "      <td>0.430414</td>\n",
       "    </tr>\n",
       "    <tr>\n",
       "      <th>Go</th>\n",
       "      <td>0.070621</td>\n",
       "      <td>0.082232</td>\n",
       "      <td>0.087804</td>\n",
       "      <td>0.095669</td>\n",
       "      <td>0.354686</td>\n",
       "    </tr>\n",
       "    <tr>\n",
       "      <th>Python</th>\n",
       "      <td>0.387558</td>\n",
       "      <td>0.416163</td>\n",
       "      <td>0.440709</td>\n",
       "      <td>0.483165</td>\n",
       "      <td>0.246689</td>\n",
       "    </tr>\n",
       "    <tr>\n",
       "      <th>R</th>\n",
       "      <td>0.170399</td>\n",
       "      <td>0.159269</td>\n",
       "      <td>0.161961</td>\n",
       "      <td>0.173149</td>\n",
       "      <td>0.016139</td>\n",
       "    </tr>\n",
       "  </tbody>\n",
       "</table>\n",
       "</div>"
      ],
      "text/plain": [
       "                2018      2019      2020      2021      diff\n",
       "Rust        0.023706  0.031906  0.051047  0.070413  1.970236\n",
       "Julia       0.005489  0.000000  0.009045  0.012968  1.362395\n",
       "Kotlin      0.044783  0.064178  0.077870  0.083369  0.861633\n",
       "TypeScript  0.173947  0.211525  0.254070  0.302452  0.738752\n",
       "Clojure     0.013174  0.014320  0.000000  0.018845  0.430414\n",
       "Go          0.070621  0.082232  0.087804  0.095669  0.354686\n",
       "Python      0.387558  0.416163  0.440709  0.483165  0.246689\n",
       "R           0.170399  0.159269  0.161961  0.173149  0.016139"
      ]
     },
     "execution_count": 8,
     "metadata": {},
     "output_type": "execute_result"
    }
   ],
   "source": [
    "# languages with increased popularity 2021 compared to 2018\n",
    "languages_year[languages_year['diff']>0]"
   ]
  },
  {
   "cell_type": "markdown",
   "metadata": {},
   "source": [
    "#### Conclusion\n",
    "\n",
    "There are 8 programming languages that have gained popularity since 2018, of course Python is one of them.\n"
   ]
  },
  {
   "cell_type": "markdown",
   "metadata": {},
   "source": [
    "#### Question 4: What portion of the participants in 2021 has mental health issues?\n",
    "\n",
    "The dataset 2021 contains a question regrading mental health. Let's have a look at the distribution with respect to participant's ages."
   ]
  },
  {
   "cell_type": "code",
   "execution_count": 9,
   "metadata": {},
   "outputs": [
    {
     "data": {
      "text/html": [
       "<div>\n",
       "<style scoped>\n",
       "    .dataframe tbody tr th:only-of-type {\n",
       "        vertical-align: middle;\n",
       "    }\n",
       "\n",
       "    .dataframe tbody tr th {\n",
       "        vertical-align: top;\n",
       "    }\n",
       "\n",
       "    .dataframe thead th {\n",
       "        text-align: right;\n",
       "    }\n",
       "</style>\n",
       "<table border=\"1\" class=\"dataframe\">\n",
       "  <thead>\n",
       "    <tr style=\"text-align: right;\">\n",
       "      <th></th>\n",
       "      <th>Status</th>\n",
       "    </tr>\n",
       "    <tr>\n",
       "      <th>Age</th>\n",
       "      <th></th>\n",
       "    </tr>\n",
       "  </thead>\n",
       "  <tbody>\n",
       "    <tr>\n",
       "      <th>18-24 years old</th>\n",
       "      <td>0.223638</td>\n",
       "    </tr>\n",
       "    <tr>\n",
       "      <th>25-34 years old</th>\n",
       "      <td>0.212110</td>\n",
       "    </tr>\n",
       "    <tr>\n",
       "      <th>35-44 years old</th>\n",
       "      <td>0.208283</td>\n",
       "    </tr>\n",
       "    <tr>\n",
       "      <th>45-54 years old</th>\n",
       "      <td>0.192338</td>\n",
       "    </tr>\n",
       "    <tr>\n",
       "      <th>55-64 years old</th>\n",
       "      <td>0.177487</td>\n",
       "    </tr>\n",
       "    <tr>\n",
       "      <th>65 years or older</th>\n",
       "      <td>0.150538</td>\n",
       "    </tr>\n",
       "    <tr>\n",
       "      <th>Prefer not to say</th>\n",
       "      <td>0.150301</td>\n",
       "    </tr>\n",
       "    <tr>\n",
       "      <th>Under 18 years old</th>\n",
       "      <td>0.253012</td>\n",
       "    </tr>\n",
       "  </tbody>\n",
       "</table>\n",
       "</div>"
      ],
      "text/plain": [
       "                      Status\n",
       "Age                         \n",
       "18-24 years old     0.223638\n",
       "25-34 years old     0.212110\n",
       "35-44 years old     0.208283\n",
       "45-54 years old     0.192338\n",
       "55-64 years old     0.177487\n",
       "65 years or older   0.150538\n",
       "Prefer not to say   0.150301\n",
       "Under 18 years old  0.253012"
      ]
     },
     "execution_count": 9,
     "metadata": {},
     "output_type": "execute_result"
    }
   ],
   "source": [
    "# collect data\n",
    "mental = df2021[['MentalHealth','Age','LanguageHaveWorkedWith']].dropna()\n",
    "\n",
    "# helper functions\n",
    "def mhealth(mm):\n",
    "    if 'None' in str(mm):\n",
    "        return 0\n",
    "    elif 'Prefer' in str(mm):\n",
    "        return 0\n",
    "    else: \n",
    "        return 1\n",
    "    \n",
    "def mlang(ml):\n",
    "    tmp = mental.loc[mental['Status']==1, 'LanguageHaveWorkedWith'].str.contains(ml, regex=False)\n",
    "    return len(tmp[tmp==True])\n",
    "\n",
    "def mlang2(ml):\n",
    "    tmp = mental.loc[mental['Status']==0, 'LanguageHaveWorkedWith'].str.contains(ml, regex=False)\n",
    "    return len(tmp[tmp==True])\n",
    "    \n",
    "mental['Status'] = mental['MentalHealth'].apply(mhealth)\n",
    "mental[['Age', 'Status']].groupby('Age').mean()\n"
   ]
  },
  {
   "cell_type": "code",
   "execution_count": 10,
   "metadata": {},
   "outputs": [
    {
     "data": {
      "text/plain": [
       "<matplotlib.axes._subplots.AxesSubplot at 0x7f981581ff98>"
      ]
     },
     "execution_count": 10,
     "metadata": {},
     "output_type": "execute_result"
    },
    {
     "data": {
      "image/png": "[encoded data removed]",
      "text/plain": [
       "<matplotlib.figure.Figure at 0x7f9815487d30>"
      ]
     },
     "metadata": {
      "needs_background": "light"
     },
     "output_type": "display_data"
    }
   ],
   "source": [
    "mental[['Age', 'Status']].groupby('Age').mean().plot(kind='bar')"
   ]
  },
  {
   "cell_type": "markdown",
   "metadata": {},
   "source": [
    "#### Conclusion\n",
    "\n",
    "For participants over 18 years, the portion of those with mental health issues is monotonously decreasing from abt. 22% to 15%. But, shockingly, about 25% of all participants below 18 years seem to have mental health issues."
   ]
  },
  {
   "cell_type": "markdown",
   "metadata": {},
   "source": [
    "#### Question 5: Compare mental health issues with usage of programming langugage in 2021.\n",
    "\n",
    "We want to check if there might be a relationship between mental health status and used programming language."
   ]
  },
  {
   "cell_type": "code",
   "execution_count": 11,
   "metadata": {},
   "outputs": [
    {
     "data": {
      "text/plain": [
       "<matplotlib.axes._subplots.AxesSubplot at 0x7f980b60fcf8>"
      ]
     },
     "execution_count": 11,
     "metadata": {},
     "output_type": "execute_result"
    },
    {
     "data": {
      "image/png": "[encoded data removed]",
      "text/plain": [
       "<matplotlib.figure.Figure at 0x7f980b6407f0>"
      ]
     },
     "metadata": {
      "needs_background": "light"
     },
     "output_type": "display_data"
    }
   ],
   "source": [
    "mental_language = all_languages_df.loc[all_languages_df['2021'] > 0, ['language']].dropna() #pd.DataFrame(all_languages, index=all_languages, columns=['language']) \n",
    "\n",
    "mental_language['not ok'] = mental_language['language'].apply(mlang)\n",
    "mental_language['ok'] = mental_language['language'].apply(mlang2)\n",
    "mental_language.drop('language', axis=1, inplace=True)\n",
    "\n",
    "# compare to the mean\n",
    "mental_language['portion'] = mental_language['not ok'] / (mental_language['not ok'] + mental_language['ok']) - mental['Status'].mean()\n",
    "\n",
    "# more than 5% over mean \n",
    "mental_language.sort_values(by='portion', ascending=False, inplace=True)\n",
    "mental_language.loc[mental_language['portion']>0.05,'portion'].plot(kind='bar')"
   ]
  },
  {
   "cell_type": "markdown",
   "metadata": {},
   "source": [
    "#### Conclusion\n",
    "\n",
    "There are 10 programming languages that are above average used by participants with mental health issues. Conditionally upon further analysis, this might point to some dependency between used programming language and mental health status. Fortunately, only one of them (Rust) has increased popularity compared to 2018."
   ]
  },
  {
   "cell_type": "code",
   "execution_count": null,
   "metadata": {},
   "outputs": [],
   "source": []
  }
 ],
 "metadata": {
  "kernelspec": {
   "display_name": "Python 3",
   "language": "python",
   "name": "python3"
  },
  "language_info": {
   "codemirror_mode": {
    "name": "ipython",
    "version": 3
   },
   "file_extension": ".py",
   "mimetype": "text/x-python",
   "name": "python",
   "nbconvert_exporter": "python",
   "pygments_lexer": "ipython3",
   "version": "3.6.3"
  }
 },
 "nbformat": 4,
 "nbformat_minor": 2
}
